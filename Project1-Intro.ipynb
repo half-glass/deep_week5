{
 "cells": [
  {
   "cell_type": "markdown",
   "metadata": {},
   "source": [
    "# <font style=\"color:blue\">Project 1: Implement a CNN based Image Classifier using Azure Cloud</font>\n",
    "In previous assignments, you have trained CNNs on datasets of small images like MNIST, FashionMNIST, and CIFAR10 available inside torchvision. While those are good enough to get started, they surely lack the complexity which you will encounter in real-world problems. You were also given most of the code and were asked to write only small parts of code to complete the assignment. \n",
    "\n",
    "In this project, you will write most of the code yourself (you should be able to do so by taking reference from whatever has been taught in the course as well as the code we have shared). \n",
    "\n",
    "### <font style=\"color:green\">Task </font>\n",
    "You will **implement a 3-class Image Classifier using a CNN** on a dataset consisting of 1000 images each of **Panda, Cat and Dog**. The dataset is taken from [Kaggle](https://www.kaggle.com/ashishsaxena2209/animal-image-datasetdog-cat-and-panda). We have split it into 80:20 ratio for train:validation which you can download from [**here**](https://www.dropbox.com/sh/n5nya3g3airlub6/AACi7vaUjdTA0t2j_iKWgp4Ra?dl=1).\n",
    "\n",
    "#### <font style = \"color:rgb(200,0,0)\">You should build your own network and not use any pre-trained network/weights for this task. </font>\n",
    "\n",
    "### <font style=\"color:green\">The purpose of this Project is two-fold:</font>\n",
    "1. The first is to get your hands dirty with training a neural network from scratch so that you understand what it takes to build and train a real network on real data. You will implement everything - right from getting the data to analysing the final results. \n",
    "1. The second is to reinforce the use of the complete training pipeline we suggested in our previous lecture. In practice, You should try to stick to this pipeline whenever you work on a new problem.\n"
   ]
  },
  {
   "cell_type": "markdown",
   "metadata": {},
   "source": [
    "**There are two Notebooks provided for download:**\n",
    "\n",
    "<font style=\"color:blue\">1. Data_and_Pipeline_Check.ipynb [30 Points]</font> \n",
    "\n",
    "**This notebook is mostly for your own learning** and we have provided some code which goes over the first few steps of data exploration and checking the code in your training pipeline by training a simple model on a sample data. Common sources of errors which you should check are - \n",
    "    - input and output shape for network, \n",
    "    - incompatible shapes among subsequent layers,\n",
    "    - loss function and optimizer related, \n",
    "    - any image transforms, \n",
    "    - plotting of curves\n",
    "\n",
    "<font style=\"color:blue\">2. Training_from_scratch.ipynb [70 Points]</font> \n",
    "\n",
    "**This notebook should be completed by you.** You should train a network on the full data. You should experiment with different network parameters to **achieve >85% validation accuracy**. You may not get 85% on your first attempt, but you can achieve that if you experiment with \n",
    "    - Number of layers\n",
    "    - Parameters inside the layers\n",
    "    - Optimizers and learning rate schedulers [You can even get good results without a learning rate shceduler]\n",
    "    - Regularization techniques like Data Augmentation, Dropout, BatchNorm\n",
    "    - number of epochs\n",
    "    "
   ]
  },
  {
   "cell_type": "markdown",
   "metadata": {},
   "source": [
    "<font style = \"color:red\">Since you have received Microsoft Azure Credits, you can use the GPUs for training the network. </font> (We have provided instructions in the previous section on how to create a Data Science Virtual Machine and upload Notebooks). \n",
    "\n",
    "After you have completed the assignment, <font style=\"color:red\">upload and submit the 2 notebooks and the models folder on the portal</font> so that we can check and provide feedback.\n",
    "\n",
    "**<font style=\"color:red\">Note: Max number of allowed submissions is six.</font>**"
   ]
  }
 ],
 "metadata": {
  "kernelspec": {
   "display_name": "Python 3",
   "language": "python",
   "name": "python3"
  },
  "language_info": {
   "codemirror_mode": {
    "name": "ipython",
    "version": 3
   },
   "file_extension": ".py",
   "mimetype": "text/x-python",
   "name": "python",
   "nbconvert_exporter": "python",
   "pygments_lexer": "ipython3",
   "version": "3.7.4"
  }
 },
 "nbformat": 4,
 "nbformat_minor": 2
}
